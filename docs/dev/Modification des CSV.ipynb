{
 "cells": [
  {
   "cell_type": "code",
   "execution_count": 2,
   "id": "73cbc98d-8798-4653-b9f0-abaa62189423",
   "metadata": {},
   "outputs": [],
   "source": [
    "import pandas as pd\n",
    "import numpy as np\n",
    "import seaborn as sns\n",
    "import matplotlib.pyplot as plt\n",
    "import datetime as dt\n",
    "import math"
   ]
  },
  {
   "cell_type": "code",
   "execution_count": null,
   "id": "f896b878-9bc0-4d4a-bb98-35480a9c262c",
   "metadata": {},
   "outputs": [],
   "source": [
    "# modification des noms de colonne servant de clés, la base gardé étant le nom du csv 'aeronefs' à savoir 'ref_aero'\n",
    "colonne_ref = 'ref_aero'\n",
    "df_logs_vols = df_logs_vols.rename(columns={'aero_linked':colonne_ref})\n",
    "df_degradations = df_degradations.rename(columns={'linked_aero':colonne_ref})\n",
    "df_composants = df_composants.rename(columns={'aero':colonne_ref})"
   ]
  },
  {
   "cell_type": "code",
   "execution_count": null,
   "id": "b6f7e457-a500-4f3e-a99a-765776bcf0ca",
   "metadata": {},
   "outputs": [],
   "source": [
    "# application d'un arrondi sur la colonne 'taux_usure_actuel' du csv composants, \n",
    "# idem pour la colonne 'usure_cumulée' du csv dégradations\n",
    "df_composants['taux_usure_actuel'] = df_composants['taux_usure_actuel'].apply(lambda x: math.ceil(x * 100) / 100)\n",
    "df_degradations['usure_cumulée'] = df_degradations['usure_cumulée'].apply(lambda x: math.ceil(x * 100) / 100)"
   ]
  },
  {
   "cell_type": "code",
   "execution_count": null,
   "id": "475e53b4-1029-4f9d-8d1c-0979bbf7385c",
   "metadata": {},
   "outputs": [],
   "source": [
    "# suppressions des duplications de lignes dans le csv dégradations sur les valeurs de la colonne 'compo_concerned' ~2%\n",
    "df_degradations.drop_duplicates(subset=['compo_concerned'], inplace=True)"
   ]
  },
  {
   "cell_type": "code",
   "execution_count": null,
   "id": "2625104f-0f63-4d01-98fb-92d6e984266c",
   "metadata": {},
   "outputs": [],
   "source": [
    "# transformation de la colonne 'time_en_air' du csv logs_vols au format minutes\n",
    "df_logs_vols['time_en_air']= df_logs_vols['time_en_air'].apply(lambda x: x*60)"
   ]
  }
 ],
 "metadata": {
  "kernelspec": {
   "display_name": "Python 3 (ipykernel)",
   "language": "python",
   "name": "python3"
  },
  "language_info": {
   "codemirror_mode": {
    "name": "ipython",
    "version": 3
   },
   "file_extension": ".py",
   "mimetype": "text/x-python",
   "name": "python",
   "nbconvert_exporter": "python",
   "pygments_lexer": "ipython3",
   "version": "3.11.3"
  }
 },
 "nbformat": 4,
 "nbformat_minor": 5
}
